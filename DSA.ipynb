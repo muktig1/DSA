{
 "cells": [
  {
   "cell_type": "code",
   "execution_count": null,
   "id": "27c0be73-0152-4e7e-b6e3-df453b559eb6",
   "metadata": {},
   "outputs": [],
   "source": [
    "#1.Reverse a singly linked list."
   ]
  },
  {
   "cell_type": "code",
   "execution_count": 1,
   "id": "69846d55-f0b8-4ec3-8d09-4ab77cb8c1da",
   "metadata": {
    "tags": []
   },
   "outputs": [
    {
     "name": "stdout",
     "output_type": "stream",
     "text": [
      "Original Linked List:\n",
      "1 -> 2 -> 3 -> 4 -> 5 -> None\n",
      "\n",
      "Reversed Linked List:\n",
      "5 -> 4 -> 3 -> 2 -> 1 -> None\n"
     ]
    }
   ],
   "source": [
    "class ListNode:\n",
    "    def __init__(self, value=0, next=None):\n",
    "        self.value = value\n",
    "        self.next = next\n",
    "\n",
    "def reverse_linked_list(head):\n",
    "    prev = None\n",
    "    current = head\n",
    "\n",
    "    while current is not None:\n",
    "        next_node = current.next\n",
    "        current.next = prev\n",
    "        prev = current\n",
    "        current = next_node\n",
    "\n",
    "    return prev\n",
    "\n",
    "# Example usage:\n",
    "# Create a sample linked list: 1 -> 2 -> 3 -> 4 -> 5\n",
    "head = ListNode(1, ListNode(2, ListNode(3, ListNode(4, ListNode(5)))))\n",
    "\n",
    "print(\"Original Linked List:\")\n",
    "current_node = head\n",
    "while current_node is not None:\n",
    "    print(current_node.value, end=\" -> \")\n",
    "    current_node = current_node.next\n",
    "print(\"None\")\n",
    "\n",
    "# Reverse the linked list\n",
    "head = reverse_linked_list(head)\n",
    "\n",
    "print(\"\\nReversed Linked List:\")\n",
    "current_node = head\n",
    "while current_node is not None:\n",
    "    print(current_node.value, end=\" -> \")\n",
    "    current_node = current_node.next\n",
    "print(\"None\")\n"
   ]
  },
  {
   "cell_type": "code",
   "execution_count": null,
   "id": "5cbad9c4-9d63-4410-bd32-ba7c28eed2ce",
   "metadata": {},
   "outputs": [],
   "source": [
    "#2 Merge two sorted linked lists into one sorted linked list"
   ]
  },
  {
   "cell_type": "code",
   "execution_count": 2,
   "id": "7aab5868-e4c3-4fc8-8dd8-f65ddff856a3",
   "metadata": {
    "tags": []
   },
   "outputs": [
    {
     "name": "stdout",
     "output_type": "stream",
     "text": [
      "List 1:\n",
      "1 -> 3 -> 5 -> None\n",
      "\n",
      "List 2:\n",
      "2 -> 4 -> 6 -> None\n",
      "\n",
      "Merged List:\n",
      "1 -> 2 -> 3 -> 4 -> 5 -> 6 -> None\n"
     ]
    }
   ],
   "source": [
    "class ListNode:\n",
    "    def __init__(self, value=0, next=None):\n",
    "        self.value = value\n",
    "        self.next = next\n",
    "\n",
    "def merge_sorted_lists(list1, list2):\n",
    "    # Create a dummy node to simplify the code\n",
    "    dummy = ListNode()\n",
    "    current = dummy\n",
    "\n",
    "    while list1 is not None and list2 is not None:\n",
    "        if list1.value < list2.value:\n",
    "            current.next = list1\n",
    "            list1 = list1.next\n",
    "        else:\n",
    "            current.next = list2\n",
    "            list2 = list2.next\n",
    "        current = current.next\n",
    "\n",
    "    # If one list is longer than the other, append the remaining nodes\n",
    "    if list1 is not None:\n",
    "        current.next = list1\n",
    "    elif list2 is not None:\n",
    "        current.next = list2\n",
    "\n",
    "    return dummy.next  # Skip the dummy node\n",
    "\n",
    "# Example usage:\n",
    "# Create two sorted linked lists: 1 -> 3 -> 5 and 2 -> 4 -> 6\n",
    "list1 = ListNode(1, ListNode(3, ListNode(5)))\n",
    "list2 = ListNode(2, ListNode(4, ListNode(6)))\n",
    "\n",
    "print(\"List 1:\")\n",
    "current_node = list1\n",
    "while current_node is not None:\n",
    "    print(current_node.value, end=\" -> \")\n",
    "    current_node = current_node.next\n",
    "print(\"None\")\n",
    "\n",
    "print(\"\\nList 2:\")\n",
    "current_node = list2\n",
    "while current_node is not None:\n",
    "    print(current_node.value, end=\" -> \")\n",
    "    current_node = current_node.next\n",
    "print(\"None\")\n",
    "\n",
    "# Merge the two lists\n",
    "merged_list = merge_sorted_lists(list1, list2)\n",
    "\n",
    "print(\"\\nMerged List:\")\n",
    "current_node = merged_list\n",
    "while current_node is not None:\n",
    "    print(current_node.value, end=\" -> \")\n",
    "    current_node = current_node.next\n",
    "print(\"None\")\n"
   ]
  },
  {
   "cell_type": "code",
   "execution_count": null,
   "id": "fae78f67-be27-4531-ac4c-dc4c1adac91a",
   "metadata": {},
   "outputs": [],
   "source": [
    "#3Remove the nth node from the end of a linked list."
   ]
  },
  {
   "cell_type": "code",
   "execution_count": 3,
   "id": "9b61f4c9-471a-4d54-9ca8-b7761745dfdb",
   "metadata": {
    "tags": []
   },
   "outputs": [
    {
     "name": "stdout",
     "output_type": "stream",
     "text": [
      "Original Linked List:\n",
      "1 -> 2 -> 3 -> 4 -> 5 -> None\n",
      "\n",
      "Linked List after removing 2th node from the end:\n",
      "1 -> 2 -> 3 -> 5 -> None\n"
     ]
    }
   ],
   "source": [
    "class ListNode:\n",
    "    def __init__(self, value=0, next=None):\n",
    "        self.value = value\n",
    "        self.next = next\n",
    "\n",
    "def remove_nth_from_end(head, n):\n",
    "    # Create a dummy node to simplify the code\n",
    "    dummy = ListNode(0)\n",
    "    dummy.next = head\n",
    "    slow = fast = dummy\n",
    "\n",
    "    # Move the fast pointer n+1 steps ahead\n",
    "    for _ in range(n + 1):\n",
    "        fast = fast.next\n",
    "\n",
    "    # Move both pointers until the fast pointer reaches the end\n",
    "    while fast is not None:\n",
    "        slow = slow.next\n",
    "        fast = fast.next\n",
    "\n",
    "    # Remove the nth node from the end\n",
    "    slow.next = slow.next.next\n",
    "\n",
    "    return dummy.next  # Skip the dummy node\n",
    "\n",
    "# Example usage:\n",
    "# Create a linked list: 1 -> 2 -> 3 -> 4 -> 5\n",
    "head = ListNode(1, ListNode(2, ListNode(3, ListNode(4, ListNode(5)))))\n",
    "\n",
    "print(\"Original Linked List:\")\n",
    "current_node = head\n",
    "while current_node is not None:\n",
    "    print(current_node.value, end=\" -> \")\n",
    "    current_node = current_node.next\n",
    "print(\"None\")\n",
    "\n",
    "# Remove the 2nd node from the end\n",
    "n = 2\n",
    "head = remove_nth_from_end(head, n)\n",
    "\n",
    "print(f\"\\nLinked List after removing {n}th node from the end:\")\n",
    "current_node = head\n",
    "while current_node is not None:\n",
    "    print(current_node.value, end=\" -> \")\n",
    "    current_node = current_node.next\n",
    "print(\"None\")\n"
   ]
  },
  {
   "cell_type": "code",
   "execution_count": null,
   "id": "13f0131a-a893-4388-ad54-d34c7fa620ea",
   "metadata": {},
   "outputs": [],
   "source": [
    "#4Find the intersection point of two linked lists."
   ]
  },
  {
   "cell_type": "code",
   "execution_count": 7,
   "id": "6ac32158-3ede-4888-886e-0609a88e957e",
   "metadata": {
    "tags": []
   },
   "outputs": [
    {
     "name": "stdout",
     "output_type": "stream",
     "text": [
      "List 1:\n",
      "1 -> 2 -> 3 -> 4 -> None\n",
      "\n",
      "List 2:\n",
      "9 -> 8 -> 3 -> 4 -> None\n",
      "\n",
      "Intersection Point: 3\n"
     ]
    }
   ],
   "source": [
    "class ListNode:\n",
    "    def __init__(self, value=0, next=None):\n",
    "        self.value = value\n",
    "        self.next = next\n",
    "\n",
    "def get_intersection_node(head1, head2):\n",
    "    def get_length(node):\n",
    "        length = 0\n",
    "        while node:\n",
    "            length += 1\n",
    "            node = node.next\n",
    "        return length\n",
    "\n",
    "    len1, len2 = get_length(head1), get_length(head2)\n",
    "\n",
    "    # Reset the pointers to the heads of the linked lists\n",
    "    current1, current2 = head1, head2\n",
    "\n",
    "    # Move the longer pointer ahead by the difference in lengths\n",
    "    while len1 > len2:\n",
    "        current1 = current1.next\n",
    "        len1 -= 1\n",
    "\n",
    "    while len2 > len1:\n",
    "        current2 = current2.next\n",
    "        len2 -= 1\n",
    "\n",
    "    # Move both pointers until they meet at the intersection point\n",
    "    while current1 != current2:\n",
    "        current1 = current1.next\n",
    "        current2 = current2.next\n",
    "\n",
    "    # Either current1 or current2 is the intersection point\n",
    "    return current1\n",
    "\n",
    "# Example usage:\n",
    "# Create two linked lists with an intersection point: 1 -> 2 -> 3 -> 4 and 9-> 8 -> 3 -> 4\n",
    "common_tail = ListNode(3, ListNode(4))\n",
    "list1 = ListNode(1, ListNode(2, common_tail))\n",
    "list2 = ListNode(9, ListNode(8, common_tail))\n",
    "\n",
    "print(\"List 1:\")\n",
    "current_node = list1\n",
    "while current_node is not None:\n",
    "    print(current_node.value, end=\" -> \")\n",
    "    current_node = current_node.next\n",
    "print(\"None\")\n",
    "\n",
    "print(\"\\nList 2:\")\n",
    "current_node = list2\n",
    "while current_node is not None:\n",
    "    print(current_node.value, end=\" -> \")\n",
    "    current_node = current_node.next\n",
    "print(\"None\")\n",
    "\n",
    "# Find the intersection point\n",
    "intersection_node = get_intersection_node(list1, list2)\n",
    "\n",
    "print(f\"\\nIntersection Point: {intersection_node.value}\")\n"
   ]
  },
  {
   "cell_type": "code",
   "execution_count": null,
   "id": "ca73899f-d9d9-4310-8227-a7a8d7fd3924",
   "metadata": {},
   "outputs": [],
   "source": [
    "#5  Remove duplicates from a sorted linked list."
   ]
  },
  {
   "cell_type": "code",
   "execution_count": 8,
   "id": "f3f08aba-5f12-4af6-a116-f2b7e695a58d",
   "metadata": {
    "tags": []
   },
   "outputs": [
    {
     "name": "stdout",
     "output_type": "stream",
     "text": [
      "Original Linked List:\n",
      "1 -> 1 -> 2 -> 3 -> 3 -> None\n",
      "\n",
      "Linked List after removing duplicates:\n",
      "1 -> 2 -> 3 -> None\n"
     ]
    }
   ],
   "source": [
    "class ListNode:\n",
    "    def __init__(self, value=0, next=None):\n",
    "        self.value = value\n",
    "        self.next = next\n",
    "\n",
    "def remove_duplicates(head):\n",
    "    current = head\n",
    "\n",
    "    while current is not None and current.next is not None:\n",
    "        if current.value == current.next.value:\n",
    "            # Duplicate found, remove the next node\n",
    "            current.next = current.next.next\n",
    "        else:\n",
    "            # Move to the next node\n",
    "            current = current.next\n",
    "\n",
    "    return head\n",
    "\n",
    "# Example usage:\n",
    "# Create a sorted linked list with duplicates: 1 -> 1 -> 2 -> 3 -> 3\n",
    "head = ListNode(1, ListNode(1, ListNode(2, ListNode(3, ListNode(3)))))\n",
    "\n",
    "print(\"Original Linked List:\")\n",
    "current_node = head\n",
    "while current_node is not None:\n",
    "    print(current_node.value, end=\" -> \")\n",
    "    current_node = current_node.next\n",
    "print(\"None\")\n",
    "\n",
    "# Remove duplicates\n",
    "head = remove_duplicates(head)\n",
    "\n",
    "print(\"\\nLinked List after removing duplicates:\")\n",
    "current_node = head\n",
    "while current_node is not None:\n",
    "    print(current_node.value, end=\" -> \")\n",
    "    current_node = current_node.next\n",
    "print(\"None\")\n"
   ]
  },
  {
   "cell_type": "code",
   "execution_count": null,
   "id": "fd4cbd4f-dc25-4273-bb13-7ab9c23cab50",
   "metadata": {},
   "outputs": [],
   "source": [
    "#6  Add two numbers represented by linked lists (where each node contains a single digit)."
   ]
  },
  {
   "cell_type": "code",
   "execution_count": 9,
   "id": "2fa21e66-ef0a-4839-8d91-3d4671a5a260",
   "metadata": {
    "tags": []
   },
   "outputs": [
    {
     "name": "stdout",
     "output_type": "stream",
     "text": [
      "Number 1:\n",
      "2 -> 4 -> 3 -> None\n",
      "\n",
      "Number 2:\n",
      "5 -> 6 -> 4 -> None\n",
      "\n",
      "Sum:\n",
      "7 -> 0 -> 8 -> None\n"
     ]
    }
   ],
   "source": [
    "class ListNode:\n",
    "    def __init__(self, value=0, next=None):\n",
    "        self.value = value\n",
    "        self.next = next\n",
    "\n",
    "def add_two_numbers(l1, l2):\n",
    "    dummy = ListNode()\n",
    "    current = dummy\n",
    "    carry = 0\n",
    "\n",
    "    while l1 is not None or l2 is not None or carry:\n",
    "        # Get values from current nodes or 0 if node is None\n",
    "        value1 = l1.value if l1 else 0\n",
    "        value2 = l2.value if l2 else 0\n",
    "\n",
    "        # Calculate sum and carry\n",
    "        total = value1 + value2 + carry\n",
    "        carry = total // 10\n",
    "\n",
    "        # Create a new node with the current digit\n",
    "        current.next = ListNode(total % 10)\n",
    "        current = current.next\n",
    "\n",
    "        # Move to the next nodes if they exist\n",
    "        if l1:\n",
    "            l1 = l1.next\n",
    "        if l2:\n",
    "            l2 = l2.next\n",
    "\n",
    "    return dummy.next\n",
    "\n",
    "# Example usage:\n",
    "# Create two numbers represented by linked lists: 2 -> 4 -> 3 and 5 -> 6 -> 4 (represents 342 + 465)\n",
    "number1 = ListNode(2, ListNode(4, ListNode(3)))\n",
    "number2 = ListNode(5, ListNode(6, ListNode(4)))\n",
    "\n",
    "print(\"Number 1:\")\n",
    "current_node = number1\n",
    "while current_node is not None:\n",
    "    print(current_node.value, end=\" -> \")\n",
    "    current_node = current_node.next\n",
    "print(\"None\")\n",
    "\n",
    "print(\"\\nNumber 2:\")\n",
    "current_node = number2\n",
    "while current_node is not None:\n",
    "    print(current_node.value, end=\" -> \")\n",
    "    current_node = current_node.next\n",
    "print(\"None\")\n",
    "\n",
    "# Add the two numbers\n",
    "result = add_two_numbers(number1, number2)\n",
    "\n",
    "print(\"\\nSum:\")\n",
    "current_node = result\n",
    "while current_node is not None:\n",
    "    print(current_node.value, end=\" -> \")\n",
    "    current_node = current_node.next\n",
    "print(\"None\")\n"
   ]
  },
  {
   "cell_type": "code",
   "execution_count": null,
   "id": "2a9ff112-0851-4ed2-90e5-b183f8531ea7",
   "metadata": {},
   "outputs": [],
   "source": [
    "#7: Swap nodes in pairs in a linked list."
   ]
  },
  {
   "cell_type": "code",
   "execution_count": 14,
   "id": "26665aa6-34f8-4fe9-a690-90e244769a06",
   "metadata": {
    "tags": []
   },
   "outputs": [
    {
     "name": "stdout",
     "output_type": "stream",
     "text": [
      "Original Linked List:\n",
      "1 -> 2 -> 3 -> 4 -> None\n",
      "\n",
      "Linked List after swapping pairs:\n",
      "2 -> 1 -> 4 -> 3 -> None\n"
     ]
    }
   ],
   "source": [
    "class ListNode:\n",
    "    def __init__(self, value=0, next=None):\n",
    "        self.value = value\n",
    "        self.next = next\n",
    "\n",
    "def swap_pairs(head):\n",
    "    dummy = ListNode()\n",
    "    dummy.next = head\n",
    "    current = dummy\n",
    "\n",
    "    while current.next and current.next.next:\n",
    "        # Nodes to be swapped\n",
    "        node1 = current.next\n",
    "        node2 = current.next.next\n",
    "\n",
    "        # Swap nodes\n",
    "        current.next = node2\n",
    "        node1.next = node2.next\n",
    "        node2.next = node1\n",
    "\n",
    "        # Move to the next pair\n",
    "        current = node1\n",
    "\n",
    "    return dummy.next\n",
    "\n",
    "# Example usage:\n",
    "# Create a linked list:1-> 2 -> 3 -> 4 \n",
    "head = ListNode(1,ListNode(2, ListNode(3, ListNode(4))))\n",
    "\n",
    "print(\"Original Linked List:\")\n",
    "current_node = head\n",
    "while current_node is not None:\n",
    "    print(current_node.value, end=\" -> \")\n",
    "    current_node = current_node.next\n",
    "print(\"None\")\n",
    "\n",
    "# Swap nodes in pairs\n",
    "head = swap_pairs(head)\n",
    "\n",
    "print(\"\\nLinked List after swapping pairs:\")\n",
    "current_node = head\n",
    "while current_node is not None:\n",
    "    print(current_node.value, end=\" -> \")\n",
    "    current_node = current_node.next\n",
    "print(\"None\")\n"
   ]
  },
  {
   "cell_type": "code",
   "execution_count": null,
   "id": "f8862933-d953-465a-94bd-6f0e27dca82e",
   "metadata": {},
   "outputs": [],
   "source": [
    "#8: Reverse nodes in a linked list in groups of k."
   ]
  },
  {
   "cell_type": "code",
   "execution_count": 17,
   "id": "e3de5aef-85af-4210-a685-ccc70f5788db",
   "metadata": {
    "tags": []
   },
   "outputs": [
    {
     "name": "stdout",
     "output_type": "stream",
     "text": [
      "Original Linked List:\n",
      "1 -> 2 -> 3 -> 4 -> 5 -> None\n",
      "\n",
      "Linked List after reversing in groups of 3:\n",
      "3 -> 2 -> 1 -> 4 -> 5 -> None\n"
     ]
    }
   ],
   "source": [
    "class ListNode:\n",
    "    def __init__(self, value=0, next=None):\n",
    "        self.value = value\n",
    "        self.next = next\n",
    "\n",
    "def reverse_k_group(head, k):\n",
    "    def reverse_linked_list(node, k):\n",
    "        prev = None\n",
    "        current = node\n",
    "        count = 0\n",
    "\n",
    "        # Count the number of nodes in the current group\n",
    "        while current is not None and count < k:\n",
    "            current = current.next\n",
    "            count += 1\n",
    "\n",
    "        # If there are enough nodes to reverse, proceed with reversal\n",
    "        if count == k:\n",
    "            prev = None\n",
    "            current = node\n",
    "            count = 0\n",
    "\n",
    "            # Reverse k nodes in the current group\n",
    "            while count < k:\n",
    "                next_node = current.next\n",
    "                current.next = prev\n",
    "                prev = current\n",
    "                current = next_node\n",
    "                count += 1\n",
    "\n",
    "            # Recursively reverse the next group and connect it to the reversed current group\n",
    "            node.next = reverse_linked_list(current, k)\n",
    "\n",
    "            # prev is the new head of the reversed current group\n",
    "            return prev\n",
    "\n",
    "        # If there are not enough nodes to reverse, leave them as they are\n",
    "        return node\n",
    "\n",
    "    return reverse_linked_list(head, k)\n",
    "\n",
    "# Example usage:\n",
    "# Create a linked list: 1 -> 2 -> 3 -> 4 -> 5 \n",
    "head = ListNode(1, ListNode(2, ListNode(3, ListNode(4, ListNode(5)))))\n",
    "\n",
    "print(\"Original Linked List:\")\n",
    "current_node = head\n",
    "while current_node is not None:\n",
    "    print(current_node.value, end=\" -> \")\n",
    "    current_node = current_node.next\n",
    "print(\"None\")\n",
    "\n",
    "# Reverse nodes in groups of 3\n",
    "k = 3\n",
    "head = reverse_k_group(head, k)\n",
    "\n",
    "print(f\"\\nLinked List after reversing in groups of {k}:\")\n",
    "current_node = head\n",
    "while current_node is not None:\n",
    "    print(current_node.value, end=\" -> \")\n",
    "    current_node = current_node.next\n",
    "print(\"None\")\n"
   ]
  },
  {
   "cell_type": "code",
   "execution_count": null,
   "id": "baeadecc-e504-4e24-9ffb-125c1b1db5e0",
   "metadata": {},
   "outputs": [],
   "source": [
    "#9: Determine if a linked list is a palindrome."
   ]
  },
  {
   "cell_type": "code",
   "execution_count": 20,
   "id": "975cf4bd-823b-4903-bea8-2dcd47bac127",
   "metadata": {
    "tags": []
   },
   "outputs": [
    {
     "name": "stdout",
     "output_type": "stream",
     "text": [
      "Linked List:\n",
      "1 -> 2 -> 2 -> 1 -> None\n",
      "\n",
      "Is Palindrome: True\n"
     ]
    }
   ],
   "source": [
    "class ListNode:\n",
    "    def __init__(self, value=0, next=None):\n",
    "        self.value = value\n",
    "        self.next = next\n",
    "\n",
    "def is_palindrome(head):\n",
    "    def reverse_linked_list(node):\n",
    "        prev = None\n",
    "        current = node\n",
    "\n",
    "        while current is not None:\n",
    "            next_node = current.next\n",
    "            current.next = prev\n",
    "            prev = current\n",
    "            current = next_node\n",
    "\n",
    "        return prev\n",
    "\n",
    "    # Find the middle of the linked list using slow and fast pointers\n",
    "    slow = fast = head\n",
    "    while fast and fast.next:\n",
    "        slow = slow.next\n",
    "        fast = fast.next.next\n",
    "\n",
    "    # Reverse the second half of the linked list\n",
    "    reversed_second_half = reverse_linked_list(slow)\n",
    "\n",
    "    # Compare the reversed second half with the first half\n",
    "    current1, current2 = head, reversed_second_half\n",
    "    while current2 is not None:\n",
    "        if current1.value != current2.value:\n",
    "            return False\n",
    "        current1 = current1.next\n",
    "        current2 = current2.next\n",
    "\n",
    "    return True\n",
    "\n",
    "# Example usage:\n",
    "# Create a palindrome linked list: 1 -> 2 -> 2 -> 1\n",
    "head = ListNode(1, ListNode(2, ListNode(2,ListNode(1))))\n",
    "\n",
    "print(\"Linked List:\")\n",
    "current_node = head\n",
    "while current_node is not None:\n",
    "    print(current_node.value, end=\" -> \")\n",
    "    current_node = current_node.next\n",
    "print(\"None\")\n",
    "\n",
    "# Check if the linked list is a palindrome\n",
    "result = is_palindrome(head)\n",
    "print(\"\\nIs Palindrome:\", result)\n"
   ]
  },
  {
   "cell_type": "code",
   "execution_count": null,
   "id": "ff09692b-4667-4399-8488-8844dcef5922",
   "metadata": {},
   "outputs": [],
   "source": [
    "#10: Rotate a linked list to the right by k places."
   ]
  },
  {
   "cell_type": "code",
   "execution_count": 23,
   "id": "71468488-13b4-45b7-a6b7-edc20abb1598",
   "metadata": {
    "tags": []
   },
   "outputs": [
    {
     "name": "stdout",
     "output_type": "stream",
     "text": [
      "Original Linked List:\n",
      "1 -> 2 -> 3 -> 4 -> 5 -> None\n",
      "\n",
      "Linked List after rotating to the right by 2 places:\n",
      "4 -> 5 -> 1 -> 2 -> 3 -> None\n"
     ]
    }
   ],
   "source": [
    "class ListNode:\n",
    "    def __init__(self, value=0, next=None):\n",
    "        self.value = value\n",
    "        self.next = next\n",
    "\n",
    "def rotate_right(head, k):\n",
    "    if not head or k == 0:\n",
    "        return head\n",
    "\n",
    "    # Find the length of the linked list\n",
    "    length = 1\n",
    "    current = head\n",
    "    while current.next:\n",
    "        length += 1\n",
    "        current = current.next\n",
    "\n",
    "    # Determine the actual number of places to rotate\n",
    "    actual_rotation = k % length\n",
    "    if actual_rotation == 0:\n",
    "        return head  # No need to rotate\n",
    "\n",
    "    # Find the new tail and head after rotation\n",
    "    new_tail_position = (length - actual_rotation - 1) % length\n",
    "    new_tail = head\n",
    "    for _ in range(new_tail_position):\n",
    "        new_tail = new_tail.next\n",
    "\n",
    "    new_head = new_tail.next\n",
    "    new_tail.next = None  # Set the new tail's next to None\n",
    "\n",
    "    # Connect the original tail to the original head to form a circular linked list\n",
    "    current.next = head\n",
    "\n",
    "    return new_head\n",
    "\n",
    "# Example usage:\n",
    "# Create a linked list: 1 -> 2 -> 3 -> 4 -> 5\n",
    "head = ListNode(1, ListNode(2, ListNode(3, ListNode(4, ListNode(5)))))\n",
    "\n",
    "print(\"Original Linked List:\")\n",
    "current_node = head\n",
    "while current_node is not None:\n",
    "    print(current_node.value, end=\" -> \")\n",
    "    current_node = current_node.next\n",
    "print(\"None\")\n",
    "\n",
    "# Rotate the linked list to the right by 2 places\n",
    "k = 2\n",
    "head = rotate_right(head, k)\n",
    "\n",
    "print(f\"\\nLinked List after rotating to the right by {k} places:\")\n",
    "current_node = head\n",
    "while current_node is not None:\n",
    "    print(current_node.value, end=\" -> \")\n",
    "    current_node = current_node.next\n",
    "print(\"None\")\n"
   ]
  },
  {
   "cell_type": "code",
   "execution_count": null,
   "id": "7d50cc8f-69df-4113-a172-d420fb7dcf96",
   "metadata": {},
   "outputs": [],
   "source": [
    "#11Flatten a multilevel doubly linked list. "
   ]
  },
  {
   "cell_type": "code",
   "execution_count": 26,
   "id": "50e12aa0-917b-4395-9473-0f60d06d2136",
   "metadata": {
    "tags": []
   },
   "outputs": [
    {
     "name": "stdout",
     "output_type": "stream",
     "text": [
      "Original Multilevel Doubly Linked List:\n",
      "1 <-> 2 <-> 3 <-> 4 <-> 5 <-> 6 <-> None\n",
      "\n",
      "Flattened Doubly Linked List:\n",
      "1 <-> 2 <-> 7 <-> 8 <-> 11 <-> 12 <-> 9 <-> 10 <-> 3 <-> 4 <-> 5 <-> 6 <-> None\n"
     ]
    }
   ],
   "source": [
    "class Node:\n",
    "    def __init__(self, value, prev=None, next=None, child=None):\n",
    "        self.value = value\n",
    "        self.prev = prev\n",
    "        self.next = next\n",
    "        self.child = child\n",
    "\n",
    "def flatten_multilevel_dll(head):\n",
    "    def flatten_level(current):\n",
    "        while current:\n",
    "            if current.child:\n",
    "                # Save the next node in the current level\n",
    "                next_node = current.next\n",
    "\n",
    "                # Connect the child to the current node\n",
    "                current.next = current.child\n",
    "                current.child.prev = current\n",
    "                current.child = None  # Set child to None\n",
    "\n",
    "                # Find the end of the child level\n",
    "                while current.next:\n",
    "                    current = current.next\n",
    "\n",
    "                # Connect the end of the child level to the next node in the current level\n",
    "                current.next = next_node\n",
    "                if next_node:\n",
    "                    next_node.prev = current\n",
    "\n",
    "            current = current.next\n",
    "\n",
    "    current = head\n",
    "    while current:\n",
    "        if current.child:\n",
    "            flatten_level(current)\n",
    "        current = current.next\n",
    "\n",
    "    return head\n",
    "\n",
    "# Example usage:\n",
    "# Create a multilevel doubly linked list: 1 <-> 2 <-> 3 <-> 7 <-> 8 <-> 11 <-> 12 <-> 9 <-> 4 <-> 5 <-> 6\n",
    "head = Node(1)\n",
    "head.next = Node(2)\n",
    "head.next.prev = head\n",
    "head.next.next = Node(3)\n",
    "head.next.next.prev = head.next\n",
    "head.next.next.next = Node(4)\n",
    "head.next.next.next.prev = head.next.next\n",
    "head.next.next.next.next = Node(5)\n",
    "head.next.next.next.next.prev = head.next.next.next\n",
    "head.next.next.next.next.next = Node(6)\n",
    "head.next.next.next.next.next.prev = head.next.next.next.next\n",
    "head.next.child = Node(7)\n",
    "head.next.child.next = Node(8)\n",
    "head.next.child.next.prev = head.next.child\n",
    "head.next.child.next.next = Node(9)\n",
    "head.next.child.next.next.prev = head.next.child.next\n",
    "head.next.child.next.next.next = Node(10)\n",
    "head.next.child.next.next.next.prev = head.next.child.next.next\n",
    "head.next.child.next.child = Node(11)\n",
    "head.next.child.next.child.next = Node(12)\n",
    "head.next.child.next.child.next.prev = head.next.child.next.child\n",
    "\n",
    "print(\"Original Multilevel Doubly Linked List:\")\n",
    "current_node = head\n",
    "while current_node:\n",
    "    print(current_node.value, end=\" <-> \")\n",
    "    current_node = current_node.next\n",
    "print(\"None\")\n",
    "\n",
    "# Flatten the multilevel doubly linked list\n",
    "head = flatten_multilevel_dll(head)\n",
    "\n",
    "print(\"\\nFlattened Doubly Linked List:\")\n",
    "current_node = head\n",
    "while current_node:\n",
    "    print(current_node.value, end=\" <-> \")\n",
    "    current_node = current_node.next\n",
    "print(\"None\")\n"
   ]
  },
  {
   "cell_type": "code",
   "execution_count": null,
   "id": "e24322f3-d939-4219-a8ea-47c3984549d8",
   "metadata": {},
   "outputs": [],
   "source": [
    "#12  Rearrange a linked list such that all even positioned nodes are placed at the end."
   ]
  },
  {
   "cell_type": "code",
   "execution_count": 28,
   "id": "991a91aa-b0e2-42eb-8348-1912d2f76a49",
   "metadata": {
    "tags": []
   },
   "outputs": [
    {
     "name": "stdout",
     "output_type": "stream",
     "text": [
      "Original Linked List:\n",
      "1 -> 2 -> 3 -> 4 -> 5 -> None\n",
      "\n",
      "Linked List after rearranging even positioned nodes:\n",
      "1 -> 3 -> 5 -> 2 -> 4 -> None\n"
     ]
    }
   ],
   "source": [
    "class ListNode:\n",
    "    def __init__(self, value=0, next=None):\n",
    "        self.value = value\n",
    "        self.next = next\n",
    "\n",
    "def rearrange_even_positioned_nodes(head):\n",
    "    if not head or not head.next or not head.next.next:\n",
    "        return head  # No need to rearrange\n",
    "\n",
    "    odd_head = odd_current = ListNode()\n",
    "    even_head = even_current = ListNode()\n",
    "\n",
    "    current = head\n",
    "    is_odd_position = True\n",
    "\n",
    "    while current:\n",
    "        if is_odd_position:\n",
    "            odd_current.next = current\n",
    "            odd_current = odd_current.next\n",
    "        else:\n",
    "            even_current.next = current\n",
    "            even_current = even_current.next\n",
    "\n",
    "        current = current.next\n",
    "        is_odd_position = not is_odd_position\n",
    "\n",
    "    # Connect the last node of the odd positions list to the head of the even positions list\n",
    "    odd_current.next = even_head.next\n",
    "    even_current.next = None  # Set the next of the last even position node to None\n",
    "\n",
    "    return odd_head.next\n",
    "\n",
    "# Example usage:\n",
    "# Create a linked list: 1 -> 2 -> 3 -> 4 -> 5 \n",
    "head = ListNode(1, ListNode(2, ListNode(3, ListNode(4, ListNode(5)))))\n",
    "\n",
    "print(\"Original Linked List:\")\n",
    "current_node = head\n",
    "while current_node is not None:\n",
    "    print(current_node.value, end=\" -> \")\n",
    "    current_node = current_node.next\n",
    "print(\"None\")\n",
    "\n",
    "# Rearrange the linked list with even positioned nodes at the end\n",
    "head = rearrange_even_positioned_nodes(head)\n",
    "\n",
    "print(\"\\nLinked List after rearranging even positioned nodes:\")\n",
    "current_node = head\n",
    "while current_node is not None:\n",
    "    print(current_node.value, end=\" -> \")\n",
    "    current_node = current_node.next\n",
    "print(\"None\")\n"
   ]
  },
  {
   "cell_type": "code",
   "execution_count": null,
   "id": "9c3c7801-752a-4e6f-9f9e-e2424d2f6db1",
   "metadata": {},
   "outputs": [],
   "source": [
    "#13 Given a non-negative number represented as a linked list, add one to it."
   ]
  },
  {
   "cell_type": "code",
   "execution_count": 29,
   "id": "5c7da141-dfbc-4d69-8fc3-d6db18d3a67d",
   "metadata": {
    "tags": []
   },
   "outputs": [
    {
     "name": "stdout",
     "output_type": "stream",
     "text": [
      "Original Linked List:\n",
      "1 -> 2 -> 3 -> None\n",
      "\n",
      "Linked List after adding one:\n",
      "1 -> 2 -> 4 -> None\n"
     ]
    }
   ],
   "source": [
    "class ListNode:\n",
    "    def __init__(self, value=0, next=None):\n",
    "        self.value = value\n",
    "        self.next = next\n",
    "\n",
    "def add_one_to_linked_list(head):\n",
    "    # Helper function to reverse a linked list\n",
    "    def reverse_linked_list(node):\n",
    "        prev = None\n",
    "        current = node\n",
    "\n",
    "        while current:\n",
    "            next_node = current.next\n",
    "            current.next = prev\n",
    "            prev = current\n",
    "            current = next_node\n",
    "\n",
    "        return prev\n",
    "\n",
    "    # Reverse the linked list\n",
    "    reversed_head = reverse_linked_list(head)\n",
    "\n",
    "    current = reversed_head\n",
    "    carry = 1  # Start with the carry of 1 to add one\n",
    "\n",
    "    while current and carry:\n",
    "        # Add the carry to the current value\n",
    "        current.value += carry\n",
    "\n",
    "        # Calculate the new carry\n",
    "        carry = current.value // 10\n",
    "        current.value %= 10\n",
    "\n",
    "        # Move to the next node\n",
    "        current = current.next\n",
    "\n",
    "    # If there is still a carry after the loop, create a new node for it\n",
    "    if carry:\n",
    "        reversed_head.next = ListNode(carry)\n",
    "\n",
    "    # Reverse the updated linked list to get the final result\n",
    "    result_head = reverse_linked_list(reversed_head)\n",
    "\n",
    "    return result_head\n",
    "\n",
    "# Example usage:\n",
    "# Create a linked list representing the number 123 (1 -> 2 -> 3)\n",
    "head = ListNode(1, ListNode(2, ListNode(3)))\n",
    "\n",
    "print(\"Original Linked List:\")\n",
    "current_node = head\n",
    "while current_node is not None:\n",
    "    print(current_node.value, end=\" -> \")\n",
    "    current_node = current_node.next\n",
    "print(\"None\")\n",
    "\n",
    "# Add one to the linked list\n",
    "head = add_one_to_linked_list(head)\n",
    "\n",
    "print(\"\\nLinked List after adding one:\")\n",
    "current_node = head\n",
    "while current_node is not None:\n",
    "    print(current_node.value, end=\" -> \")\n",
    "    current_node = current_node.next\n",
    "print(\"None\")\n"
   ]
  },
  {
   "cell_type": "code",
   "execution_count": null,
   "id": "c325cc3f-6dd0-4e50-af74-5c45e4fc1ac1",
   "metadata": {},
   "outputs": [],
   "source": [
    "#14 Given a sorted array and a target value, return the index if the target is found. If not, return the\n",
    "index where it would be inserted."
   ]
  },
  {
   "cell_type": "code",
   "execution_count": 30,
   "id": "478e2c99-cc3d-4d9d-bed7-920b7aa41346",
   "metadata": {
    "tags": []
   },
   "outputs": [
    {
     "name": "stdout",
     "output_type": "stream",
     "text": [
      "The index where 5 should be inserted is: 2\n"
     ]
    }
   ],
   "source": [
    "def search_insert(nums, target):\n",
    "    left, right = 0, len(nums) - 1\n",
    "\n",
    "    while left <= right:\n",
    "        mid = left + (right - left) // 2\n",
    "\n",
    "        if nums[mid] == target:\n",
    "            return mid\n",
    "        elif nums[mid] < target:\n",
    "            left = mid + 1\n",
    "        else:\n",
    "            right = mid - 1\n",
    "\n",
    "    return left  # If the target is not found, left is the index where it should be inserted\n",
    "\n",
    "# Example usage:\n",
    "sorted_array = [1, 3, 5, 6]\n",
    "target_value = 5\n",
    "\n",
    "result = search_insert(sorted_array, target_value)\n",
    "print(f\"The index where {target_value} should be inserted is: {result}\")\n"
   ]
  },
  {
   "cell_type": "code",
   "execution_count": null,
   "id": "f48086a2-c97f-4ab0-987a-996a44040481",
   "metadata": {},
   "outputs": [],
   "source": [
    "#15 Find the minimum element in a rotated sorted array."
   ]
  },
  {
   "cell_type": "code",
   "execution_count": 31,
   "id": "903a4ab0-4498-4ef7-a55d-d8e6f236d2a3",
   "metadata": {
    "tags": []
   },
   "outputs": [
    {
     "name": "stdout",
     "output_type": "stream",
     "text": [
      "The minimum element in the rotated sorted array is: 0\n"
     ]
    }
   ],
   "source": [
    "def find_min_in_rotated_array(nums):\n",
    "    left, right = 0, len(nums) - 1\n",
    "\n",
    "    while left < right:\n",
    "        mid = left + (right - left) // 2\n",
    "\n",
    "        if nums[mid] > nums[right]:\n",
    "            # The minimum element must be in the right half\n",
    "            left = mid + 1\n",
    "        elif nums[mid] < nums[right]:\n",
    "            # The minimum element must be in the left half or is the mid itself\n",
    "            right = mid\n",
    "        else:\n",
    "            # nums[mid] == nums[right], move left pointer to narrow the search space\n",
    "            right -= 1\n",
    "\n",
    "    return nums[left]\n",
    "\n",
    "# Example usage:\n",
    "rotated_sorted_array = [4, 5, 6, 7, 0, 1, 2]\n",
    "\n",
    "result = find_min_in_rotated_array(rotated_sorted_array)\n",
    "print(f\"The minimum element in the rotated sorted array is: {result}\")\n"
   ]
  },
  {
   "cell_type": "code",
   "execution_count": null,
   "id": "c5fbd7ea-46ec-4fa1-b2bd-f6a09169d63f",
   "metadata": {},
   "outputs": [],
   "source": [
    "#16 Search for a target value in a rotated sorted array."
   ]
  },
  {
   "cell_type": "code",
   "execution_count": 32,
   "id": "c6a056a3-3822-4a77-9e6b-1b1b63048ccf",
   "metadata": {
    "tags": []
   },
   "outputs": [
    {
     "name": "stdout",
     "output_type": "stream",
     "text": [
      "The index of 0 in the rotated sorted array is: 4\n"
     ]
    }
   ],
   "source": [
    "def search_rotated_array(nums, target):\n",
    "    left, right = 0, len(nums) - 1\n",
    "\n",
    "    while left <= right:\n",
    "        mid = left + (right - left) // 2\n",
    "\n",
    "        if nums[mid] == target:\n",
    "            return mid  # Found the target\n",
    "\n",
    "        # Check which half is sorted\n",
    "        if nums[left] <= nums[mid]:\n",
    "            # Left half is sorted\n",
    "            if nums[left] <= target < nums[mid]:\n",
    "                right = mid - 1  # Target is in the left half\n",
    "            else:\n",
    "                left = mid + 1  # Target is in the right half\n",
    "        else:\n",
    "            # Right half is sorted\n",
    "            if nums[mid] < target <= nums[right]:\n",
    "                left = mid + 1  # Target is in the right half\n",
    "            else:\n",
    "                right = mid - 1  # Target is in the left half\n",
    "\n",
    "    return -1  # Target not found\n",
    "\n",
    "# Example usage:\n",
    "rotated_sorted_array = [4, 5, 6, 7, 0, 1, 2]\n",
    "target_value = 0\n",
    "\n",
    "result = search_rotated_array(rotated_sorted_array, target_value)\n",
    "print(f\"The index of {target_value} in the rotated sorted array is: {result}\")\n"
   ]
  },
  {
   "cell_type": "code",
   "execution_count": null,
   "id": "248dc584-e819-4c9e-a8f8-d1c9cfd8a709",
   "metadata": {},
   "outputs": [],
   "source": [
    "#17 Find the peak element in an array. A peak element is greater than its neighbors."
   ]
  },
  {
   "cell_type": "code",
   "execution_count": 34,
   "id": "7247d3aa-ba58-4910-8852-500d5c6f9258",
   "metadata": {
    "tags": []
   },
   "outputs": [
    {
     "name": "stdout",
     "output_type": "stream",
     "text": [
      "The peak element in the array is: 3 at index 2\n"
     ]
    }
   ],
   "source": [
    "def find_peak_element(nums):\n",
    "    left, right = 0, len(nums) - 1\n",
    "\n",
    "    while left < right:\n",
    "        mid = left + (right - left) // 2\n",
    "\n",
    "        # Check if the peak is on the right side\n",
    "        if nums[mid] < nums[mid + 1]:\n",
    "            left = mid + 1\n",
    "        else:\n",
    "            right = mid\n",
    "\n",
    "    return left  # 'left' will be the index of a peak element\n",
    "\n",
    "# Example usage:\n",
    "nums = [1, 2, 3,1]\n",
    "\n",
    "result = find_peak_element(nums)\n",
    "print(f\"The peak element in the array is: {nums[result]} at index {result}\")\n"
   ]
  },
  {
   "cell_type": "code",
   "execution_count": null,
   "id": "99dc5890-2098-4e50-92da-5e61aa0078e2",
   "metadata": {},
   "outputs": [],
   "source": [
    "#18Given a m x n matrix where each row and column is sorted in ascending order, count the number\n",
    "of negative numbers."
   ]
  },
  {
   "cell_type": "code",
   "execution_count": 36,
   "id": "0d1a69ca-496c-42d3-b122-c51ca821857a",
   "metadata": {
    "tags": []
   },
   "outputs": [
    {
     "name": "stdout",
     "output_type": "stream",
     "text": [
      "The number of negative numbers in the matrix is: 8\n"
     ]
    }
   ],
   "source": [
    "def count_negatives(matrix):\n",
    "    rows, cols = len(matrix), len(matrix[0])\n",
    "    count = 0\n",
    "\n",
    "    for row in matrix:\n",
    "        left, right = 0, cols - 1\n",
    "\n",
    "        while left <= right:\n",
    "            mid = left + (right - left) // 2\n",
    "\n",
    "            if row[mid] < 0:\n",
    "                # All elements to the right of mid are negative\n",
    "                count += (right - mid + 1)\n",
    "                right = mid - 1\n",
    "            else:\n",
    "                # All elements to the left of mid are non-negative\n",
    "                left = mid + 1\n",
    "\n",
    "    return count\n",
    "\n",
    "# Example usage:\n",
    "matrix = [\n",
    "    [4, 3, 2, -1],\n",
    "    [3,  2,  1, -1],\n",
    "    [ 1,  1,  -1, -2],\n",
    "    [-1 , -1, -2, -3]\n",
    "]\n",
    "\n",
    "result = count_negatives(matrix)\n",
    "print(f\"The number of negative numbers in the matrix is: {result}\")\n"
   ]
  },
  {
   "cell_type": "code",
   "execution_count": null,
   "id": "59b3f35c-c3c1-48eb-b723-123abec4aa3a",
   "metadata": {},
   "outputs": [],
   "source": [
    "#19  Given a 2D matrix sorted in ascending order in each row, and the first integer of each row is\n",
    "greater than the last integer of the previous row, determine if a target value is present in the matrix."
   ]
  },
  {
   "cell_type": "code",
   "execution_count": 37,
   "id": "0f5c23c5-fd30-480d-8a36-d38a43ebaf38",
   "metadata": {
    "tags": []
   },
   "outputs": [
    {
     "name": "stdout",
     "output_type": "stream",
     "text": [
      "Is 3 present in the matrix? True\n"
     ]
    }
   ],
   "source": [
    "def search_matrix(matrix, target):\n",
    "    if not matrix or not matrix[0]:\n",
    "        return False  # Empty matrix\n",
    "\n",
    "    rows, cols = len(matrix), len(matrix[0])\n",
    "    left, right = 0, rows * cols - 1\n",
    "\n",
    "    while left <= right:\n",
    "        mid = left + (right - left) // 2\n",
    "        mid_value = matrix[mid // cols][mid % cols]\n",
    "\n",
    "        if mid_value == target:\n",
    "            return True\n",
    "        elif mid_value < target:\n",
    "            left = mid + 1\n",
    "        else:\n",
    "            right = mid - 1\n",
    "\n",
    "    return False\n",
    "\n",
    "# Example usage:\n",
    "matrix = [\n",
    "    [1, 3, 5, 7],\n",
    "    [10, 11, 16, 20],\n",
    "    [23, 30, 34, 60]\n",
    "]\n",
    "target_value = 3\n",
    "\n",
    "result = search_matrix(matrix, target_value)\n",
    "print(f\"Is {target_value} present in the matrix? {result}\")\n"
   ]
  },
  {
   "cell_type": "code",
   "execution_count": null,
   "id": "58093359-67e2-4863-a2de-aa1c4c41c129",
   "metadata": {},
   "outputs": [],
   "source": [
    "#20  Find Median in Two Sorted Arrays\n",
    "Problem: Given two sorted arrays, find the median of the combined sorted array."
   ]
  },
  {
   "cell_type": "code",
   "execution_count": 38,
   "id": "8422286b-68a9-4661-b1ee-108fb79409fb",
   "metadata": {
    "tags": []
   },
   "outputs": [
    {
     "name": "stdout",
     "output_type": "stream",
     "text": [
      "The median of the combined sorted arrays is: 2\n"
     ]
    }
   ],
   "source": [
    "def findMedianSortedArrays(nums1, nums2):\n",
    "    if len(nums1) > len(nums2):\n",
    "        nums1, nums2 = nums2, nums1\n",
    "\n",
    "    x, y = len(nums1), len(nums2)\n",
    "    low, high = 0, x\n",
    "\n",
    "    while low <= high:\n",
    "        partitionX = (low + high) // 2\n",
    "        partitionY = (x + y + 1) // 2 - partitionX\n",
    "\n",
    "        maxX = float('-inf') if partitionX == 0 else nums1[partitionX - 1]\n",
    "        minX = float('inf') if partitionX == x else nums1[partitionX]\n",
    "\n",
    "        maxY = float('-inf') if partitionY == 0 else nums2[partitionY - 1]\n",
    "        minY = float('inf') if partitionY == y else nums2[partitionY]\n",
    "\n",
    "        if maxX <= minY and maxY <= minX:\n",
    "            if (x + y) % 2 == 0:\n",
    "                return (max(maxX, maxY) + min(minX, minY)) / 2\n",
    "            else:\n",
    "                return max(maxX, maxY)\n",
    "        elif maxX > minY:\n",
    "            high = partitionX - 1\n",
    "        else:\n",
    "            low = partitionX + 1\n",
    "\n",
    "# Example usage:\n",
    "nums1 = [1, 3]\n",
    "nums2 = [2]\n",
    "\n",
    "result = findMedianSortedArrays(nums1, nums2)\n",
    "print(f\"The median of the combined sorted arrays is: {result}\")\n"
   ]
  },
  {
   "cell_type": "code",
   "execution_count": null,
   "id": "04026b86-7196-4c54-a709-62c35eca96dc",
   "metadata": {},
   "outputs": [],
   "source": [
    "#21 Given a sorted character array and a target letter, find the smallest letter in the array that is\n",
    "greater than the target."
   ]
  },
  {
   "cell_type": "code",
   "execution_count": 39,
   "id": "3d345aa9-64dd-43bc-859f-6a3e0f3fdd21",
   "metadata": {
    "tags": []
   },
   "outputs": [
    {
     "name": "stdout",
     "output_type": "stream",
     "text": [
      "The smallest letter greater than a is: c\n"
     ]
    }
   ],
   "source": [
    "def nextGreatestLetter(letters, target):\n",
    "    left, right = 0, len(letters) - 1\n",
    "\n",
    "    while left <= right:\n",
    "        mid = left + (right - left) // 2\n",
    "\n",
    "        if letters[mid] <= target:\n",
    "            left = mid + 1\n",
    "        else:\n",
    "            right = mid - 1\n",
    "\n",
    "    # If the target is greater than or equal to all letters, return the first letter\n",
    "    return letters[left % len(letters)]\n",
    "\n",
    "# Example usage:\n",
    "sorted_chars = ['c', 'f', 'j']\n",
    "target_letter = 'a'\n",
    "\n",
    "result = nextGreatestLetter(sorted_chars, target_letter)\n",
    "print(f\"The smallest letter greater than {target_letter} is: {result}\")\n"
   ]
  },
  {
   "cell_type": "code",
   "execution_count": null,
   "id": "407310bc-7207-4376-9b3d-59bf6ab86616",
   "metadata": {},
   "outputs": [],
   "source": [
    "#22 Given an array with n objects colored red, white, or blue, sort them in-place so that objects of\n",
    "the same color are adjacent, with the colors in the order red, white, and blue."
   ]
  },
  {
   "cell_type": "code",
   "execution_count": 40,
   "id": "6ceee600-f8bf-4327-9c64-4bea788fc427",
   "metadata": {
    "tags": []
   },
   "outputs": [
    {
     "name": "stdout",
     "output_type": "stream",
     "text": [
      "Original Array: [2, 0, 2, 1, 1, 0]\n",
      "Sorted Array: [0, 0, 1, 1, 2, 2]\n"
     ]
    }
   ],
   "source": [
    "def sortColors(nums):\n",
    "    low, high = 0, len(nums) - 1\n",
    "    current = 0\n",
    "\n",
    "    while current <= high:\n",
    "        if nums[current] == 0:\n",
    "            nums[low], nums[current] = nums[current], nums[low]\n",
    "            low += 1\n",
    "            current += 1\n",
    "        elif nums[current] == 2:\n",
    "            nums[current], nums[high] = nums[high], nums[current]\n",
    "            high -= 1\n",
    "        else:\n",
    "            current += 1\n",
    "\n",
    "# Example usage:\n",
    "colors = [2, 0, 2, 1, 1, 0]\n",
    "\n",
    "print(\"Original Array:\", colors)\n",
    "sortColors(colors)\n",
    "print(\"Sorted Array:\", colors)\n"
   ]
  },
  {
   "cell_type": "code",
   "execution_count": null,
   "id": "7b1f45ba-a24c-4c4b-9e02-8efe609b3c8f",
   "metadata": {},
   "outputs": [],
   "source": [
    "#23 Find the kth largest element in an unsorted array."
   ]
  },
  {
   "cell_type": "code",
   "execution_count": 42,
   "id": "5a3edc68-6c64-4af1-9625-3a8353ffb74f",
   "metadata": {
    "tags": []
   },
   "outputs": [
    {
     "name": "stdout",
     "output_type": "stream",
     "text": [
      "The 2th largest element is: 5\n"
     ]
    }
   ],
   "source": [
    "def findKthLargest(nums, k):\n",
    "    nums.sort(reverse=True)\n",
    "    return nums[k - 1]\n",
    "\n",
    "# Example usage:\n",
    "unsorted_array = [3, 2,1,5,6,4]\n",
    "k_value = 2\n",
    "\n",
    "result = findKthLargest(unsorted_array, k_value)\n",
    "print(f\"The {k_value}th largest element is: {result}\")\n"
   ]
  },
  {
   "cell_type": "code",
   "execution_count": null,
   "id": "dae9013b-3bfa-4424-86cc-7ad1963a8de1",
   "metadata": {},
   "outputs": [],
   "source": [
    "#24 Given an unsorted array, reorder it in-place such that nums[0] <= nums[1] >= nums[2] <=\n",
    "nums[3]..."
   ]
  },
  {
   "cell_type": "code",
   "execution_count": 43,
   "id": "f4839a98-aed7-4349-adfd-edfe352d9b9f",
   "metadata": {
    "tags": []
   },
   "outputs": [
    {
     "name": "stdout",
     "output_type": "stream",
     "text": [
      "Reordered Array: [1, 3, 2, 5, 4, 6]\n"
     ]
    }
   ],
   "source": [
    "def wiggleSort(nums):\n",
    "    nums.sort()\n",
    "\n",
    "    for i in range(1, len(nums) - 1, 2):\n",
    "        nums[i], nums[i + 1] = nums[i + 1], nums[i]\n",
    "\n",
    "# Example usage:\n",
    "unsorted_array = [3, 5, 2, 1, 6, 4]\n",
    "wiggleSort(unsorted_array)\n",
    "print(\"Reordered Array:\", unsorted_array)\n"
   ]
  },
  {
   "cell_type": "code",
   "execution_count": null,
   "id": "d1556965-6ffe-44d9-ba5b-58138df145e2",
   "metadata": {},
   "outputs": [],
   "source": [
    "#25 Given an array of integers, calculate the sum of all its elements."
   ]
  },
  {
   "cell_type": "code",
   "execution_count": 44,
   "id": "018d9954-f26b-41ab-b42d-cae60c67e37f",
   "metadata": {
    "tags": []
   },
   "outputs": [
    {
     "name": "stdout",
     "output_type": "stream",
     "text": [
      "The sum of the array elements is: 15\n"
     ]
    }
   ],
   "source": [
    "def calculate_sum(nums):\n",
    "    result_sum = 0\n",
    "\n",
    "    for num in nums:\n",
    "        result_sum += num\n",
    "\n",
    "    return result_sum\n",
    "\n",
    "# Example usage:\n",
    "integer_array = [1, 2, 3, 4, 5]\n",
    "\n",
    "result = calculate_sum(integer_array)\n",
    "print(f\"The sum of the array elements is: {result}\")\n"
   ]
  },
  {
   "cell_type": "code",
   "execution_count": null,
   "id": "5bf12d43-60b5-442e-82b7-ad0c60072e9a",
   "metadata": {},
   "outputs": [],
   "source": [
    "#26 Find the maximum element in an array of integers."
   ]
  },
  {
   "cell_type": "code",
   "execution_count": 45,
   "id": "5eb7b09a-6d4a-44b6-92f5-6b0155fd70a1",
   "metadata": {
    "tags": []
   },
   "outputs": [
    {
     "name": "stdout",
     "output_type": "stream",
     "text": [
      "The maximum element in the array is: 9\n"
     ]
    }
   ],
   "source": [
    "def find_max_element(nums):\n",
    "    if not nums:\n",
    "        return None  # Return None for an empty array\n",
    "\n",
    "    max_element = nums[0]\n",
    "\n",
    "    for num in nums:\n",
    "        if num > max_element:\n",
    "            max_element = num\n",
    "\n",
    "    return max_element\n",
    "\n",
    "# Example usage:\n",
    "integer_array = [3, 1, 7, 4, 2, 9]\n",
    "\n",
    "result = find_max_element(integer_array)\n",
    "print(f\"The maximum element in the array is: {result}\")\n"
   ]
  },
  {
   "cell_type": "code",
   "execution_count": null,
   "id": "cb927c16-6a46-4a8d-9000-5f02bb3eaa20",
   "metadata": {},
   "outputs": [],
   "source": [
    "#27: Implement linear search to find the index of a target element in an array."
   ]
  },
  {
   "cell_type": "code",
   "execution_count": 47,
   "id": "b4967533-9421-4cee-83b6-60cab109dfc2",
   "metadata": {
    "tags": []
   },
   "outputs": [
    {
     "name": "stdout",
     "output_type": "stream",
     "text": [
      "The target element 8 is found at index 2.\n"
     ]
    }
   ],
   "source": [
    "def linear_search(nums, target):\n",
    "    for i in range(len(nums)):\n",
    "        if nums[i] == target:\n",
    "            return i  # Return the index if the target is found\n",
    "    return -1  # Return -1 if the target is not found\n",
    "\n",
    "# Example usage:\n",
    "integer_array = [5,3,8,2,7,4]\n",
    "target_element = 8\n",
    "\n",
    "result = linear_search(integer_array, target_element)\n",
    "if result != -1:\n",
    "    print(f\"The target element {target_element} is found at index {result}.\")\n",
    "else:\n",
    "    print(f\"The target element {target_element} is not found in the array.\")\n"
   ]
  },
  {
   "cell_type": "code",
   "execution_count": null,
   "id": "bfb47149-6850-4f2c-b180-4b06d24fb76d",
   "metadata": {},
   "outputs": [],
   "source": [
    "#28 Calculate the factorial of a given number."
   ]
  },
  {
   "cell_type": "code",
   "execution_count": 48,
   "id": "2a5e7067-01bc-45e0-b7fc-88532b1501b2",
   "metadata": {
    "tags": []
   },
   "outputs": [
    {
     "name": "stdout",
     "output_type": "stream",
     "text": [
      "The factorial of 5 is: 120\n"
     ]
    }
   ],
   "source": [
    "def factorial_recursive(n):\n",
    "    if n == 0 or n == 1:\n",
    "        return 1\n",
    "    else:\n",
    "        return n * factorial_recursive(n - 1)\n",
    "\n",
    "# Example usage:\n",
    "number = 5\n",
    "result = factorial_recursive(number)\n",
    "print(f\"The factorial of {number} is: {result}\")\n"
   ]
  },
  {
   "cell_type": "code",
   "execution_count": null,
   "id": "d2321407-7d48-4c0c-a8b6-7d2a64934986",
   "metadata": {},
   "outputs": [],
   "source": [
    "#29Check if a given number is a prime number. "
   ]
  },
  {
   "cell_type": "code",
   "execution_count": 50,
   "id": "7c7968d6-2d4e-483a-954d-bf8779628876",
   "metadata": {
    "tags": []
   },
   "outputs": [
    {
     "name": "stdout",
     "output_type": "stream",
     "text": [
      "7 is a prime number.\n"
     ]
    }
   ],
   "source": [
    "import math\n",
    "\n",
    "def is_prime(number):\n",
    "    if number <= 1:\n",
    "        return False\n",
    "    elif number == 2:\n",
    "        return True\n",
    "\n",
    "    # Check for divisibility from 2 to the square root of the number\n",
    "    for i in range(2, int(math.sqrt(number)) + 1):\n",
    "        if number % i == 0:\n",
    "            return False  # The number is divisible, hence not a prime number\n",
    "\n",
    "    return True  # The number is not divisible by any integer, so it is a prime number\n",
    "\n",
    "# Example usage:\n",
    "test_number = 7\n",
    "if is_prime(test_number):\n",
    "    print(f\"{test_number} is a prime number.\")\n",
    "else:\n",
    "    print(f\"{test_number} is not a prime number.\")\n"
   ]
  },
  {
   "cell_type": "code",
   "execution_count": null,
   "id": "8b474d19-0c81-4d61-b7f0-dd4ad833c53b",
   "metadata": {},
   "outputs": [],
   "source": [
    " #30: Generate the Fibonacci series up to a given number n."
   ]
  },
  {
   "cell_type": "code",
   "execution_count": 51,
   "id": "918ce78b-a930-4755-917c-35dcefc2e683",
   "metadata": {
    "tags": []
   },
   "outputs": [
    {
     "name": "stdout",
     "output_type": "stream",
     "text": [
      "Fibonacci series up to 8: [0, 1, 1, 2, 3, 5, 8]\n"
     ]
    }
   ],
   "source": [
    "def generate_fibonacci_series(n):\n",
    "    fibonacci_series = [0, 1]\n",
    "\n",
    "    while fibonacci_series[-1] + fibonacci_series[-2] <= n:\n",
    "        next_number = fibonacci_series[-1] + fibonacci_series[-2]\n",
    "        fibonacci_series.append(next_number)\n",
    "\n",
    "    return fibonacci_series\n",
    "\n",
    "# Example usage:\n",
    "limit = 8\n",
    "fibonacci_series_result = generate_fibonacci_series(limit)\n",
    "print(f\"Fibonacci series up to {limit}: {fibonacci_series_result}\")\n"
   ]
  },
  {
   "cell_type": "code",
   "execution_count": null,
   "id": "eec92aa0-4b29-4f37-9e32-fd6ff8719dc7",
   "metadata": {},
   "outputs": [],
   "source": [
    "#31 Calculate the power of a number using recursion."
   ]
  },
  {
   "cell_type": "code",
   "execution_count": 53,
   "id": "a767b9e5-9b99-4698-bc52-3ced34b98542",
   "metadata": {
    "tags": []
   },
   "outputs": [
    {
     "name": "stdout",
     "output_type": "stream",
     "text": [
      "3 raised to the power 4 is: 81\n"
     ]
    }
   ],
   "source": [
    "def power(base, exponent):\n",
    "    if exponent == 0:\n",
    "        return 1\n",
    "    elif exponent < 0:\n",
    "        return 1 / power(base, -exponent)\n",
    "    else:\n",
    "        return base * power(base, exponent - 1)\n",
    "\n",
    "# Example usage:\n",
    "base_number = 3\n",
    "exponent_value = 4\n",
    "\n",
    "result = power(base_number, exponent_value)\n",
    "print(f\"{base_number} raised to the power {exponent_value} is: {result}\")\n"
   ]
  },
  {
   "cell_type": "code",
   "execution_count": null,
   "id": "905bf8e4-df5b-4008-8036-b32ee5eab709",
   "metadata": {},
   "outputs": [],
   "source": [
    "#32: Reverse a given string."
   ]
  },
  {
   "cell_type": "code",
   "execution_count": 55,
   "id": "71049597-abea-4791-8c8f-79e9a8e01033",
   "metadata": {
    "tags": []
   },
   "outputs": [
    {
     "name": "stdout",
     "output_type": "stream",
     "text": [
      "The reversed string is: olleH\n"
     ]
    }
   ],
   "source": [
    "def reverse_string(s):\n",
    "    return s[::-1]\n",
    "\n",
    "# Example usage:\n",
    "original_string = \"Hello\"\n",
    "reversed_string = reverse_string(original_string)\n",
    "print(f\"The reversed string is: {reversed_string}\")\n"
   ]
  }
 ],
 "metadata": {
  "kernelspec": {
   "display_name": "Python 3 (ipykernel)",
   "language": "python",
   "name": "python3"
  },
  "language_info": {
   "codemirror_mode": {
    "name": "ipython",
    "version": 3
   },
   "file_extension": ".py",
   "mimetype": "text/x-python",
   "name": "python",
   "nbconvert_exporter": "python",
   "pygments_lexer": "ipython3",
   "version": "3.11.5"
  }
 },
 "nbformat": 4,
 "nbformat_minor": 5
}
